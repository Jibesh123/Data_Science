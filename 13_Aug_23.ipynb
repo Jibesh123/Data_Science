{
 "cells": [
  {
   "cell_type": "code",
   "execution_count": 1,
   "id": "163bf058-a6ea-4930-b116-8db9014ef0f4",
   "metadata": {},
   "outputs": [
    {
     "data": {
      "text/plain": [
       "2"
      ]
     },
     "execution_count": 1,
     "metadata": {},
     "output_type": "execute_result"
    }
   ],
   "source": [
    "1+1"
   ]
  },
  {
   "cell_type": "code",
   "execution_count": 2,
   "id": "ce4f16b4-3e5a-4fc0-a366-f166b85777e0",
   "metadata": {},
   "outputs": [
    {
     "data": {
      "text/plain": [
       "'Jibesh'"
      ]
     },
     "execution_count": 2,
     "metadata": {},
     "output_type": "execute_result"
    }
   ],
   "source": [
    "'Jibesh'"
   ]
  },
  {
   "cell_type": "code",
   "execution_count": 3,
   "id": "3a668d4c-3efa-434d-b038-b450baa9300e",
   "metadata": {},
   "outputs": [
    {
     "data": {
      "text/plain": [
       "True"
      ]
     },
     "execution_count": 3,
     "metadata": {},
     "output_type": "execute_result"
    }
   ],
   "source": [
    "3==3"
   ]
  },
  {
   "cell_type": "code",
   "execution_count": 5,
   "id": "e2cd07a0-011f-48fa-acd5-ece10d59ff10",
   "metadata": {},
   "outputs": [
    {
     "data": {
      "text/plain": [
       "True"
      ]
     },
     "execution_count": 5,
     "metadata": {},
     "output_type": "execute_result"
    }
   ],
   "source": [
    "True==True"
   ]
  },
  {
   "cell_type": "code",
   "execution_count": 14,
   "id": "b7c07d6e-84cb-4211-be92-1bb5d6149134",
   "metadata": {},
   "outputs": [
    {
     "data": {
      "text/plain": [
       "True"
      ]
     },
     "execution_count": 14,
     "metadata": {},
     "output_type": "execute_result"
    }
   ],
   "source": [
    "Test=1\n",
    "Test==Test"
   ]
  },
  {
   "cell_type": "code",
   "execution_count": 13,
   "id": "dffb541c-8a90-4c88-bf03-0801851af286",
   "metadata": {},
   "outputs": [],
   "source": [
    "Test='Jibesh'"
   ]
  },
  {
   "cell_type": "code",
   "execution_count": 1,
   "id": "31d8793c-83fd-4321-ad9a-c908511243e2",
   "metadata": {},
   "outputs": [
    {
     "data": {
      "text/plain": [
       "2"
      ]
     },
     "execution_count": 1,
     "metadata": {},
     "output_type": "execute_result"
    }
   ],
   "source": [
    "1+1"
   ]
  },
  {
   "cell_type": "code",
   "execution_count": null,
   "id": "ee31e083-9fd3-4e84-ae71-5e9de03f9199",
   "metadata": {},
   "outputs": [],
   "source": []
  }
 ],
 "metadata": {
  "kernelspec": {
   "display_name": "Python 3 (ipykernel)",
   "language": "python",
   "name": "python3"
  },
  "language_info": {
   "codemirror_mode": {
    "name": "ipython",
    "version": 3
   },
   "file_extension": ".py",
   "mimetype": "text/x-python",
   "name": "python",
   "nbconvert_exporter": "python",
   "pygments_lexer": "ipython3",
   "version": "3.10.8"
  }
 },
 "nbformat": 4,
 "nbformat_minor": 5
}
